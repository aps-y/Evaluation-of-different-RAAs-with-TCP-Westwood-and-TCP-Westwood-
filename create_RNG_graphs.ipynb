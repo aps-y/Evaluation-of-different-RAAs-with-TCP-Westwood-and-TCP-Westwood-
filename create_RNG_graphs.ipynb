{
 "cells": [
  {
   "cell_type": "code",
   "execution_count": 1,
   "metadata": {},
   "outputs": [],
   "source": [
    "import matplotlib.pyplot as plt\n",
    "import numpy as np\n",
    "import pandas as pd\n",
    "import os"
   ]
  },
  {
   "cell_type": "code",
   "execution_count": 2,
   "metadata": {},
   "outputs": [],
   "source": [
    "raas = [\"Arf\", \"Aarf\",\"Aarfcd\", \"Onoe\", \"Minstrel\"]\n",
    "tcps = [\"TcpWestwood\",\"TcpWestwoodPlus\"]"
   ]
  },
  {
   "cell_type": "code",
   "execution_count": 25,
   "metadata": {},
   "outputs": [],
   "source": [
    "def plotGraph(raa,nWifi):\n",
    "    throughputPathWw = \"./Throughput/Throughput_\" + raa + \"_\" + tcps[0] + \"_\" + str(nWifi) + \".csv\"\n",
    "    delayPathWw = \"./Delay/Delay_\" + raa + \"_\" + tcps[0] + \"_\" + str(nWifi) + \".csv\"\n",
    "    thrputsPdWw = pd.read_csv(throughputPathWw,header=None)\n",
    "    delaysPdWw = pd.read_csv(delayPathWw, header=None)\n",
    "    throughputPathWwp = \"./Throughput/Throughput_\" + raa + \"_\" + tcps[1] + \"_\" + str(nWifi) + \".csv\"\n",
    "    delayPathWwp = \"./Delay/Delay_\" + raa + \"_\" + tcps[1] + \"_\" + str(nWifi) + \".csv\"\n",
    "    thrputsPdWwp = pd.read_csv(throughputPathWwp,header=None)\n",
    "    delaysPdWwp = pd.read_csv(delayPathWwp, header=None)\n",
    "    pathToResult = \"./CombRes/\"+str(nWifi)+\"nodes\"\n",
    "    pathToResultDelay = pathToResult + \"/Delay/\"\n",
    "    pathToResultThroughput = pathToResult + \"/Throughput/\"\n",
    "    print(pathToResultDelay)\n",
    "    print(pathToResultThroughput)\n",
    "    if not os.path.isdir(pathToResultDelay):\n",
    "        os.makedirs(pathToResultDelay)\n",
    "    if not os.path.isdir(pathToResultThroughput):\n",
    "        os.makedirs(pathToResultThroughput)\n",
    "    thrputsWw = thrputsPdWw.to_numpy()\n",
    "    delaysWw = delaysPdWw.to_numpy()\n",
    "    thrputsWw = thrputsWw[:,0]\n",
    "    thrputsWw = thrputsWw/5\n",
    "    delaysWw = delaysWw[:,0]\n",
    "\n",
    "    thrputsWwp = thrputsPdWwp.to_numpy()\n",
    "    delaysWwp = delaysPdWwp.to_numpy()\n",
    "    thrputsWwp = thrputsWwp[:,0]\n",
    "    thrputsWwp = thrputsWwp/5\n",
    "    delaysWwp = delaysWwp[:,0]\n",
    "\n",
    "    for rng in range(2,8):\n",
    "        throughputPathWw = \"./Throughput/Throughput_\" + raa + \"_\" + tcps[0] + \"_\" + str(nWifi)+\"_\"+str(rng) + \".csv\"\n",
    "        delayPathWw = \"./Delay/Delay_\" + raa + \"_\" + tcps[0] + \"_\" + str(nWifi) +\"_\"+str(rng)+ \".csv\"\n",
    "        thrputsPdWw = pd.read_csv(throughputPathWw,header=None)\n",
    "        delaysPdWw = pd.read_csv(delayPathWw, header=None)\n",
    "        throughputPathWwp = \"./Throughput/Throughput_\" + raa + \"_\" + tcps[1] + \"_\" + str(nWifi)+\"_\"+str(rng) + \".csv\"\n",
    "        delayPathWwp = \"./Delay/Delay_\" + raa + \"_\" + tcps[1] + \"_\" + str(nWifi)+\"_\"+str(rng) + \".csv\"\n",
    "        thrputsPdWwp = pd.read_csv(throughputPathWwp,header=None)\n",
    "        delaysPdWwp = pd.read_csv(delayPathWwp, header=None)\n",
    "\n",
    "\n",
    "        thrputsWwRng = thrputsPdWw.to_numpy()\n",
    "        delaysWwRng = delaysPdWw.to_numpy()\n",
    "        thrputsWwRng = thrputsWwRng[:,0]\n",
    "        delaysWwRng = delaysWwRng[:,0]\n",
    "\n",
    "        thrputsWw = thrputsWw+thrputsWwRng\n",
    "        delaysWw = delaysWw + delaysWwRng\n",
    "\n",
    "        thrputsWwpRng = thrputsPdWwp.to_numpy()\n",
    "        delaysWwpRng = delaysPdWwp.to_numpy()\n",
    "        thrputsWwpRng = thrputsWwpRng[:,0]\n",
    "        delaysWwpRng = delaysWwpRng[:,0]\n",
    "\n",
    "        thrputsWwp = thrputsWwp+thrputsWwpRng\n",
    "        delaysWwp = delaysWwp + delaysWwpRng\n",
    "    \n",
    "    thrputsWw = thrputsWw/7\n",
    "    thrputsWwp = thrputsWwp/7\n",
    "\n",
    "    delaysWw = delaysWw/7\n",
    "    delaysWwp = delaysWwp/7\n",
    "\n",
    "\n",
    "    time = [i for i in range(1,len(delaysWw)+1)]\n",
    "    plt.plot(time,delaysWw,color='blue')\n",
    "    plt.plot(time,delaysWwp,color='red')\n",
    "    plt.legend(['Tcp_Westwood', 'Tcp_Westwood_Plus'])\n",
    "    plt.xlabel(\"Time (seconds)\")\n",
    "    plt.ylabel(\"Delay (ms)\")\n",
    "    plt.title(raa)\n",
    "    plt.savefig(pathToResultDelay+raa+\".png\",dpi=300)\n",
    "    plt.close()\n",
    "    \n",
    "    plt.plot(time,thrputsWw,color='blue')\n",
    "    plt.plot(time,thrputsWwp,color='red')\n",
    "    plt.legend(['Tcp Westwood', 'Tcp Westwood Plus'])\n",
    "    plt.xlabel(\"Time (seconds)\")\n",
    "    plt.ylabel(\"Throughput (Mb/s)\")\n",
    "    plt.title(raa)\n",
    "    plt.savefig(pathToResultThroughput+raa+\".png\",dpi=300)\n",
    "    plt.close()"
   ]
  },
  {
   "cell_type": "code",
   "execution_count": 26,
   "metadata": {},
   "outputs": [],
   "source": [
    "def cdf(a):\n",
    "    s=0\n",
    "    for i in range(len(a)):\n",
    "        s+=a[i]\n",
    "        a[i]=s\n",
    "    return a\n",
    "\n",
    "def plotCDFGraph(raa,nWifi):\n",
    "    throughputPathWw = \"./Throughput/Throughput_\" + raa + \"_\" + tcps[0] + \"_\" + str(nWifi) + \".csv\"\n",
    "    delayPathWw = \"./Delay/Delay_\" + raa + \"_\" + tcps[0] + \"_\" + str(nWifi) + \".csv\"\n",
    "    thrputsPdWw = pd.read_csv(throughputPathWw,header=None)\n",
    "    delaysPdWw = pd.read_csv(delayPathWw, header=None)\n",
    "    throughputPathWwp = \"./Throughput/Throughput_\" + raa + \"_\" + tcps[1] + \"_\" + str(nWifi) + \".csv\"\n",
    "    delayPathWwp = \"./Delay/Delay_\" + raa + \"_\" + tcps[1] + \"_\" + str(nWifi) + \".csv\"\n",
    "    thrputsPdWwp = pd.read_csv(throughputPathWwp,header=None)\n",
    "    delaysPdWwp = pd.read_csv(delayPathWwp, header=None)\n",
    "    pathToResult = \"./CombResCDF/\"+str(nWifi)+\"nodes\"\n",
    "    pathToResultDelay = pathToResult + \"/Delay/\"\n",
    "    pathToResultThroughput = pathToResult + \"/Throughput/\"\n",
    "    print(pathToResultDelay)\n",
    "    print(pathToResultThroughput)\n",
    "    if not os.path.isdir(pathToResultDelay):\n",
    "        os.makedirs(pathToResultDelay)\n",
    "    if not os.path.isdir(pathToResultThroughput):\n",
    "        os.makedirs(pathToResultThroughput)\n",
    "    thrputsWw = thrputsPdWw.to_numpy()\n",
    "    delaysWw = delaysPdWw.to_numpy()\n",
    "    thrputsWw = thrputsWw[:,0]\n",
    "    thrputsWw = thrputsWw/5\n",
    "    delaysWw = delaysWw[:,0]\n",
    "\n",
    "    thrputsWwp = thrputsPdWwp.to_numpy()\n",
    "    delaysWwp = delaysPdWwp.to_numpy()\n",
    "    thrputsWwp = thrputsWwp[:,0]\n",
    "    thrputsWwp = thrputsWwp/5\n",
    "    delaysWwp = delaysWwp[:,0]\n",
    "\n",
    "    for rng in range(2,8):\n",
    "        throughputPathWw = \"./Throughput/Throughput_\" + raa + \"_\" + tcps[0] + \"_\" + str(nWifi)+\"_\"+str(rng) + \".csv\"\n",
    "        delayPathWw = \"./Delay/Delay_\" + raa + \"_\" + tcps[0] + \"_\" + str(nWifi) +\"_\"+str(rng)+ \".csv\"\n",
    "        thrputsPdWw = pd.read_csv(throughputPathWw,header=None)\n",
    "        delaysPdWw = pd.read_csv(delayPathWw, header=None)\n",
    "        throughputPathWwp = \"./Throughput/Throughput_\" + raa + \"_\" + tcps[1] + \"_\" + str(nWifi)+\"_\"+str(rng) + \".csv\"\n",
    "        delayPathWwp = \"./Delay/Delay_\" + raa + \"_\" + tcps[1] + \"_\" + str(nWifi)+\"_\"+str(rng) + \".csv\"\n",
    "        thrputsPdWwp = pd.read_csv(throughputPathWwp,header=None)\n",
    "        delaysPdWwp = pd.read_csv(delayPathWwp, header=None)\n",
    "\n",
    "\n",
    "        thrputsWwRng = thrputsPdWw.to_numpy()\n",
    "        delaysWwRng = delaysPdWw.to_numpy()\n",
    "        thrputsWwRng = thrputsWwRng[:,0]\n",
    "        delaysWwRng = delaysWwRng[:,0]\n",
    "\n",
    "        thrputsWw = thrputsWw+thrputsWwRng\n",
    "        delaysWw = delaysWw + delaysWwRng\n",
    "\n",
    "        thrputsWwpRng = thrputsPdWwp.to_numpy()\n",
    "        delaysWwpRng = delaysPdWwp.to_numpy()\n",
    "        thrputsWwpRng = thrputsWwpRng[:,0]\n",
    "        delaysWwpRng = delaysWwpRng[:,0]\n",
    "\n",
    "        thrputsWwp = thrputsWwp+thrputsWwpRng\n",
    "        delaysWwp = delaysWwp + delaysWwpRng\n",
    "    \n",
    "    thrputsWw = cdf(thrputsWw/7)\n",
    "    thrputsWwp = cdf(thrputsWwp/7)\n",
    "\n",
    "    delaysWw = cdf(delaysWw/7)\n",
    "    delaysWwp = cdf(delaysWwp/7)\n",
    "\n",
    "\n",
    "    time = [i for i in range(1,len(delaysWw)+1)]\n",
    "    plt.plot(time,delaysWw,color='blue')\n",
    "    plt.plot(time,delaysWwp,color='red')\n",
    "    plt.legend(['Tcp_Westwood', 'Tcp_Westwood_Plus'])\n",
    "    plt.xlabel(\"Time (seconds)\")\n",
    "    plt.ylabel(\"Cummulative Delay (ms)\")\n",
    "    plt.title(raa)\n",
    "    plt.savefig(pathToResultDelay+raa+\".png\",dpi=300)\n",
    "    plt.close()\n",
    "    \n",
    "    plt.plot(time,thrputsWw,color='blue')\n",
    "    plt.plot(time,thrputsWwp,color='red')\n",
    "    plt.legend(['Tcp Westwood', 'Tcp Westwood Plus'])\n",
    "    plt.xlabel(\"Time (seconds)\")\n",
    "    plt.ylabel(\"Cummulative Throughput (Mb/s)\")\n",
    "    plt.title(raa)\n",
    "    plt.savefig(pathToResultThroughput+raa+\".png\",dpi=300)\n",
    "    plt.close()"
   ]
  },
  {
   "cell_type": "code",
   "execution_count": 27,
   "metadata": {},
   "outputs": [
    {
     "name": "stdout",
     "output_type": "stream",
     "text": [
      "./CombResCDF/4nodes/Delay/\n",
      "./CombResCDF/4nodes/Throughput/\n",
      "./CombRes/4nodes/Delay/\n",
      "./CombRes/4nodes/Throughput/\n",
      "./CombResCDF/4nodes/Delay/\n",
      "./CombResCDF/4nodes/Throughput/\n",
      "./CombRes/4nodes/Delay/\n",
      "./CombRes/4nodes/Throughput/\n",
      "./CombResCDF/4nodes/Delay/\n",
      "./CombResCDF/4nodes/Throughput/\n",
      "./CombRes/4nodes/Delay/\n",
      "./CombRes/4nodes/Throughput/\n",
      "./CombResCDF/4nodes/Delay/\n",
      "./CombResCDF/4nodes/Throughput/\n",
      "./CombRes/4nodes/Delay/\n",
      "./CombRes/4nodes/Throughput/\n",
      "./CombResCDF/4nodes/Delay/\n",
      "./CombResCDF/4nodes/Throughput/\n",
      "./CombRes/4nodes/Delay/\n",
      "./CombRes/4nodes/Throughput/\n"
     ]
    }
   ],
   "source": [
    "for raa in raas:\n",
    "    plotCDFGraph(raa,4)\n",
    "    plotGraph(raa,4)"
   ]
  },
  {
   "cell_type": "code",
   "execution_count": 13,
   "metadata": {},
   "outputs": [],
   "source": [
    "ab = np.array([2,4,6,8])"
   ]
  },
  {
   "cell_type": "code",
   "execution_count": 20,
   "metadata": {},
   "outputs": [
    {
     "data": {
      "text/plain": [
       "array([ 2,  8, 20, 40])"
      ]
     },
     "execution_count": 20,
     "metadata": {},
     "output_type": "execute_result"
    }
   ],
   "source": [
    "ab"
   ]
  },
  {
   "cell_type": "code",
   "execution_count": 21,
   "metadata": {},
   "outputs": [],
   "source": []
  },
  {
   "cell_type": "code",
   "execution_count": null,
   "metadata": {},
   "outputs": [],
   "source": []
  },
  {
   "cell_type": "code",
   "execution_count": null,
   "metadata": {},
   "outputs": [],
   "source": []
  }
 ],
 "metadata": {
  "kernelspec": {
   "display_name": "Python 3",
   "language": "python",
   "name": "python3"
  },
  "language_info": {
   "codemirror_mode": {
    "name": "ipython",
    "version": 3
   },
   "file_extension": ".py",
   "mimetype": "text/x-python",
   "name": "python",
   "nbconvert_exporter": "python",
   "pygments_lexer": "ipython3",
   "version": "3.8.5"
  },
  "metadata": {
   "interpreter": {
    "hash": "31f2aee4e71d21fbe5cf8b01ff0e069b9275f58929596ceb00d14d90e3e16cd6"
   }
  }
 },
 "nbformat": 4,
 "nbformat_minor": 2
}
